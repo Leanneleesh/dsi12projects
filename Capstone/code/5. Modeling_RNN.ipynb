{
 "cells": [
  {
   "cell_type": "markdown",
   "metadata": {},
   "source": [
    "## 5. Sentiment Analysis - Modeling with RNN\n",
    "---"
   ]
  },
  {
   "cell_type": "markdown",
   "metadata": {},
   "source": [
    "### Contents:\n",
    "- [Data Preprocessing](#Preprocessing)\n",
    "- [Vanilla RNN Model](#RNNModel)\n",
    "- [RNN Model with LSTM ](#LSTMRNNModel)\n",
    "- [RNN Model with LSTM and Dropout Layers](#DropoutRNNModel)\n",
    "- [Summary of Model Performance](#ModelSummary)"
   ]
  },
  {
   "cell_type": "code",
   "execution_count": 2,
   "metadata": {
    "colab": {
     "base_uri": "https://localhost:8080/",
     "height": 81
    },
    "colab_type": "code",
    "id": "iFPCKGgN8Zlp",
    "outputId": "663fdc69-4d14-473d-f1c4-1dce60fb69a3"
   },
   "outputs": [
    {
     "name": "stderr",
     "output_type": "stream",
     "text": [
      "Using TensorFlow backend.\n"
     ]
    }
   ],
   "source": [
    "# Import Libraries\n",
    "import pandas as pd\n",
    "import numpy as np\n",
    "from numpy import array \n",
    "import matplotlib.pyplot as plt\n",
    "\n",
    "from sklearn.model_selection import train_test_split\n",
    "\n",
    "from keras.preprocessing.text import Tokenizer, one_hot\n",
    "from keras.preprocessing.sequence import pad_sequences \n",
    "from keras.layers import Dense, Flatten, LSTM, SpatialDropout1D \n",
    "from keras.layers.embeddings import Embedding\n",
    "from keras.utils.np_utils import to_categorical\n",
    "from keras.models import Sequential, load_model\n",
    "from keras.callbacks import EarlyStopping"
   ]
  },
  {
   "cell_type": "markdown",
   "metadata": {},
   "source": [
    "<a id='Preprocessing'></a>"
   ]
  },
  {
   "cell_type": "markdown",
   "metadata": {},
   "source": [
    "### Data Preprocessing"
   ]
  },
  {
   "cell_type": "code",
   "execution_count": 3,
   "metadata": {
    "colab": {},
    "colab_type": "code",
    "id": "4BgeBsVvA8NA"
   },
   "outputs": [],
   "source": [
    "filepath = '../datasets/tweets_clean_1.csv'"
   ]
  },
  {
   "cell_type": "code",
   "execution_count": 4,
   "metadata": {
    "colab": {},
    "colab_type": "code",
    "id": "JM5lkCeKBKVe"
   },
   "outputs": [],
   "source": [
    "df = pd.read_csv(filepath)"
   ]
  },
  {
   "cell_type": "code",
   "execution_count": 5,
   "metadata": {
    "colab": {
     "base_uri": "https://localhost:8080/",
     "height": 260
    },
    "colab_type": "code",
    "id": "Q31Mby7KBVpA",
    "outputId": "ac324e96-0272-40de-aa6b-b5c4e3404a10"
   },
   "outputs": [
    {
     "data": {
      "text/plain": [
       "<bound method NDFrame.head of                                                     text  airline_sentiment\n",
       "0                                                   said                  1\n",
       "1                           plu ad commerci experi tacki                  2\n",
       "2                   today must mean need take anoth trip                  1\n",
       "3      realli aggress blast obnoxi entertain guest fa...                  0\n",
       "4                                   realli big bad thing                  0\n",
       "...                                                  ...                ...\n",
       "14596                           thank got differ chicago                  2\n",
       "14597  leav minut late warn commun minut late call sh...                  0\n",
       "14598           pleas bring american airlin blackberry10                  1\n",
       "14599       money chang answer phone suggest make commit                  0\n",
       "14600  ppl need know mani seat next plz put u standbi...                  1\n",
       "\n",
       "[14601 rows x 2 columns]>"
      ]
     },
     "execution_count": 5,
     "metadata": {},
     "output_type": "execute_result"
    }
   ],
   "source": [
    "df.head"
   ]
  },
  {
   "cell_type": "markdown",
   "metadata": {
    "colab_type": "text",
    "id": "6NGuImQTg-mz"
   },
   "source": [
    "### Organising Data into Train Test Set"
   ]
  },
  {
   "cell_type": "code",
   "execution_count": 6,
   "metadata": {
    "colab": {},
    "colab_type": "code",
    "id": "Bj71tiSkBjlr"
   },
   "outputs": [],
   "source": [
    "X = df['text']"
   ]
  },
  {
   "cell_type": "code",
   "execution_count": 7,
   "metadata": {
    "colab": {},
    "colab_type": "code",
    "id": "0nHulxfZaAJ3"
   },
   "outputs": [],
   "source": [
    "y = df['airline_sentiment']"
   ]
  },
  {
   "cell_type": "code",
   "execution_count": 8,
   "metadata": {
    "colab": {},
    "colab_type": "code",
    "id": "Flsj-tkQoLdn"
   },
   "outputs": [],
   "source": [
    "labels = to_categorical(y, num_classes=3)"
   ]
  },
  {
   "cell_type": "code",
   "execution_count": 9,
   "metadata": {
    "colab": {},
    "colab_type": "code",
    "id": "Hqel-bfoo6a4"
   },
   "outputs": [],
   "source": [
    "y = labels"
   ]
  },
  {
   "cell_type": "code",
   "execution_count": 10,
   "metadata": {
    "colab": {},
    "colab_type": "code",
    "id": "dTYBULeRaIHl"
   },
   "outputs": [],
   "source": [
    "X_train, X_test, y_train, y_test = train_test_split(X,y,\n",
    "                                                    random_state=42,\n",
    "                                                    stratify=y)"
   ]
  },
  {
   "cell_type": "code",
   "execution_count": 11,
   "metadata": {
    "colab": {
     "base_uri": "https://localhost:8080/",
     "height": 35
    },
    "colab_type": "code",
    "id": "FB5iigHhaiyj",
    "outputId": "66a29a3c-184f-443f-d32b-b92f9b17a1e4"
   },
   "outputs": [
    {
     "data": {
      "text/plain": [
       "(10950,)"
      ]
     },
     "execution_count": 11,
     "metadata": {},
     "output_type": "execute_result"
    }
   ],
   "source": [
    "X_train.shape"
   ]
  },
  {
   "cell_type": "code",
   "execution_count": 12,
   "metadata": {
    "colab": {
     "base_uri": "https://localhost:8080/",
     "height": 35
    },
    "colab_type": "code",
    "id": "5Z8fpoz9aluI",
    "outputId": "617b665f-b78c-4bef-e0b8-c019b1d8b39a"
   },
   "outputs": [
    {
     "data": {
      "text/plain": [
       "(3651,)"
      ]
     },
     "execution_count": 12,
     "metadata": {},
     "output_type": "execute_result"
    }
   ],
   "source": [
    "X_test.shape"
   ]
  },
  {
   "cell_type": "code",
   "execution_count": 13,
   "metadata": {
    "colab": {
     "base_uri": "https://localhost:8080/",
     "height": 35
    },
    "colab_type": "code",
    "id": "3y4HBdYlaovj",
    "outputId": "b636ead4-61c3-4b19-f944-70484a6981f0"
   },
   "outputs": [
    {
     "data": {
      "text/plain": [
       "(10950, 3)"
      ]
     },
     "execution_count": 13,
     "metadata": {},
     "output_type": "execute_result"
    }
   ],
   "source": [
    "y_train.shape"
   ]
  },
  {
   "cell_type": "markdown",
   "metadata": {
    "colab_type": "text",
    "id": "JfWlbgzDhHST"
   },
   "source": [
    "### Word Embeddings"
   ]
  },
  {
   "cell_type": "code",
   "execution_count": 14,
   "metadata": {
    "colab": {},
    "colab_type": "code",
    "id": "vuf7uSCdZ1Ii"
   },
   "outputs": [],
   "source": [
    "tokenizer = Tokenizer()\n",
    "tokenizer.fit_on_texts(X_train)\n",
    "encodings = tokenizer.texts_to_sequences(X_train)\n"
   ]
  },
  {
   "cell_type": "code",
   "execution_count": 15,
   "metadata": {
    "colab": {
     "base_uri": "https://localhost:8080/",
     "height": 191
    },
    "colab_type": "code",
    "id": "zQj7Q_IEa6Zj",
    "outputId": "4155099a-8277-4d43-b4a9-20c4675abbf1"
   },
   "outputs": [
    {
     "data": {
      "text/plain": [
       "[[58, 424, 415, 318, 71, 2301, 48, 33, 13],\n",
       " [184, 65, 16, 416],\n",
       " [1772, 7, 120, 17, 136, 425, 12, 41, 212, 16, 823, 2302, 12],\n",
       " [106, 15, 2828, 1610, 2, 281, 3814, 3815, 96, 3, 796, 16, 51, 435],\n",
       " [287, 844, 28, 154, 844, 32, 136, 561, 28, 69, 47, 319, 1117, 307, 910, 79],\n",
       " [116],\n",
       " [2829, 3816, 7, 173, 267, 1376, 709, 3817, 318, 169, 5, 30, 1611],\n",
       " [3818, 3819, 3820, 244],\n",
       " [114, 525, 2303, 1, 4],\n",
       " [4, 1193, 71, 273, 183, 1993, 228, 3821]]"
      ]
     },
     "execution_count": 15,
     "metadata": {},
     "output_type": "execute_result"
    }
   ],
   "source": [
    "encodings[:10]"
   ]
  },
  {
   "cell_type": "code",
   "execution_count": 16,
   "metadata": {
    "colab": {
     "base_uri": "https://localhost:8080/",
     "height": 35
    },
    "colab_type": "code",
    "id": "pjlMa3RVa8BI",
    "outputId": "64f87d3c-6fcc-4e3e-d170-d6f0db4f2850"
   },
   "outputs": [
    {
     "name": "stdout",
     "output_type": "stream",
     "text": [
      "Vocabulary Size: 7663\n"
     ]
    }
   ],
   "source": [
    "vocab_length = len(tokenizer.word_index) + 1\n",
    "print(f\"Vocabulary Size: {vocab_length}\")"
   ]
  },
  {
   "cell_type": "code",
   "execution_count": 17,
   "metadata": {
    "colab": {
     "base_uri": "https://localhost:8080/",
     "height": 35
    },
    "colab_type": "code",
    "id": "dNHR_l1peBkB",
    "outputId": "29eab648-e486-410b-d73b-cbe8fe3cba71"
   },
   "outputs": [
    {
     "data": {
      "text/plain": [
       "9"
      ]
     },
     "execution_count": 17,
     "metadata": {},
     "output_type": "execute_result"
    }
   ],
   "source": [
    "len(encodings[0])"
   ]
  },
  {
   "cell_type": "markdown",
   "metadata": {
    "colab_type": "text",
    "id": "eQEE59lNhSQ3"
   },
   "source": [
    "### Determining the Max Words per Post and Frequence of Occurence\n",
    "\n",
    "- Based on the distribution of word, the mean number of words is 8 and most of the tweets have under 20 words. As such, the tweets will be padded to 20."
   ]
  },
  {
   "cell_type": "code",
   "execution_count": 18,
   "metadata": {
    "colab": {
     "base_uri": "https://localhost:8080/",
     "height": 52
    },
    "colab_type": "code",
    "id": "_Sv4epCwbaq7",
    "outputId": "6b16bf9a-71a4-4047-e4f4-e4b5659ed363"
   },
   "outputs": [
    {
     "name": "stdout",
     "output_type": "stream",
     "text": [
      "Max Tweet Length: 85\n"
     ]
    },
    {
     "data": {
      "text/plain": [
       "8.422557077625571"
      ]
     },
     "execution_count": 18,
     "metadata": {},
     "output_type": "execute_result"
    }
   ],
   "source": [
    "tweet_lengths = [len(i) for i in encodings] \n",
    "print(f\"Max Tweet Length: {max(tweet_lengths)}\")\n",
    "np.mean(tweet_lengths)"
   ]
  },
  {
   "cell_type": "code",
   "execution_count": 19,
   "metadata": {
    "colab": {
     "base_uri": "https://localhost:8080/",
     "height": 295
    },
    "colab_type": "code",
    "id": "CyDis2IVeahr",
    "outputId": "9b086176-fea1-4d2b-b60c-bd2094a71ca6"
   },
   "outputs": [
    {
     "data": {
      "image/png": "[encoded data removed]",
      "text/plain": [
       "<Figure size 576x288 with 1 Axes>"
      ]
     },
     "metadata": {
      "needs_background": "light"
     },
     "output_type": "display_data"
    }
   ],
   "source": [
    "#visualizing distribution of words by post\n",
    "length_df = pd.DataFrame(tweet_lengths)\n",
    "\n",
    "fig, ax = plt.subplots(figsize=(8,4))\n",
    "ax.hist(tweet_lengths, bins=40, rwidth=0.5)\n",
    "plt.axvline(np.mean(tweet_lengths), color='red')\n",
    "ax.set_title('Distribution of Posts by Word Length')\n",
    "ax.set_xlabel('No. of Words')\n",
    "ax.set_ylabel('No. of posts')\n",
    "ax.grid(b=True)"
   ]
  },
  {
   "cell_type": "code",
   "execution_count": 20,
   "metadata": {
    "colab": {},
    "colab_type": "code",
    "id": "-YBykyW5fijC"
   },
   "outputs": [],
   "source": [
    "#pad documents to a max length of 20 words\n",
    "max_length = 20 \n",
    "X_train_pad = pad_sequences(encodings, maxlen=max_length, padding='post')"
   ]
  },
  {
   "cell_type": "code",
   "execution_count": 21,
   "metadata": {
    "colab": {
     "base_uri": "https://localhost:8080/",
     "height": 381
    },
    "colab_type": "code",
    "id": "lvMeMdEPibgw",
    "outputId": "aaa6b4df-3a49-49da-dd2f-aad31ba1684e"
   },
   "outputs": [
    {
     "data": {
      "text/plain": [
       "array([[  58,  424,  415,  318,   71, 2301,   48,   33,   13,    0,    0,\n",
       "           0,    0,    0,    0,    0,    0,    0,    0,    0],\n",
       "       [ 184,   65,   16,  416,    0,    0,    0,    0,    0,    0,    0,\n",
       "           0,    0,    0,    0,    0,    0,    0,    0,    0],\n",
       "       [1772,    7,  120,   17,  136,  425,   12,   41,  212,   16,  823,\n",
       "        2302,   12,    0,    0,    0,    0,    0,    0,    0],\n",
       "       [ 106,   15, 2828, 1610,    2,  281, 3814, 3815,   96,    3,  796,\n",
       "          16,   51,  435,    0,    0,    0,    0,    0,    0],\n",
       "       [ 287,  844,   28,  154,  844,   32,  136,  561,   28,   69,   47,\n",
       "         319, 1117,  307,  910,   79,    0,    0,    0,    0],\n",
       "       [ 116,    0,    0,    0,    0,    0,    0,    0,    0,    0,    0,\n",
       "           0,    0,    0,    0,    0,    0,    0,    0,    0],\n",
       "       [2829, 3816,    7,  173,  267, 1376,  709, 3817,  318,  169,    5,\n",
       "          30, 1611,    0,    0,    0,    0,    0,    0,    0],\n",
       "       [3818, 3819, 3820,  244,    0,    0,    0,    0,    0,    0,    0,\n",
       "           0,    0,    0,    0,    0,    0,    0,    0,    0],\n",
       "       [ 114,  525, 2303,    1,    4,    0,    0,    0,    0,    0,    0,\n",
       "           0,    0,    0,    0,    0,    0,    0,    0,    0],\n",
       "       [   4, 1193,   71,  273,  183, 1993,  228, 3821,    0,    0,    0,\n",
       "           0,    0,    0,    0,    0,    0,    0,    0,    0]])"
      ]
     },
     "execution_count": 21,
     "metadata": {},
     "output_type": "execute_result"
    }
   ],
   "source": [
    "X_train_pad[:10]"
   ]
  },
  {
   "cell_type": "code",
   "execution_count": 22,
   "metadata": {
    "colab": {},
    "colab_type": "code",
    "id": "drSV-fa9mFRI"
   },
   "outputs": [],
   "source": [
    "test_encodings = tokenizer.texts_to_sequences(X_test)\n",
    "X_test_pad = pad_sequences(test_encodings, maxlen=max_length, padding='post')"
   ]
  },
  {
   "cell_type": "code",
   "execution_count": 23,
   "metadata": {
    "colab": {
     "base_uri": "https://localhost:8080/",
     "height": 208
    },
    "colab_type": "code",
    "id": "mYn73Ff5mbEp",
    "outputId": "1ae4bd32-267c-48b8-ad55-6a6c94dd5824"
   },
   "outputs": [
    {
     "data": {
      "text/plain": [
       "array([[  13,   31,    0,    0,    0,    0,    0,    0,    0,    0,    0,\n",
       "           0,    0,    0,    0,    0,    0,    0,    0,    0],\n",
       "       [   5,   10,   17,  259,  187,  279,  795,   25,  105,  115,    0,\n",
       "           0,    0,    0,    0,    0,    0,    0,    0,    0],\n",
       "       [   7,   73,    3,    0,    0,    0,    0,    0,    0,    0,    0,\n",
       "           0,    0,    0,    0,    0,    0,    0,    0,    0],\n",
       "       [  39,  764,  229,   23,  615, 2129,  175,    0,    0,    0,    0,\n",
       "           0,    0,    0,    0,    0,    0,    0,    0,    0],\n",
       "       [ 984,   12,   89,   89,   19,  235,   21,    0,    0,    0,    0,\n",
       "           0,    0,    0,    0,    0,    0,    0,    0,    0]])"
      ]
     },
     "execution_count": 23,
     "metadata": {},
     "output_type": "execute_result"
    }
   ],
   "source": [
    "X_test_pad[:5]"
   ]
  },
  {
   "cell_type": "markdown",
   "metadata": {},
   "source": [
    "<a id='RNNModel'></a>"
   ]
  },
  {
   "cell_type": "markdown",
   "metadata": {},
   "source": [
    "### Vanilla RNN Model\n",
    "\n",
    "- The Vanilla RNN model was created using the embedding layer, flattened and finally an output layer \n",
    "- Earlystop was also introduced as the model accuracy seemed to decrease after a number of epochs \n",
    "- Overall model accuracy of 78.1% is comparable to the Logistic Regression Model in the earlier sections"
   ]
  },
  {
   "cell_type": "code",
   "execution_count": 24,
   "metadata": {
    "colab": {
     "base_uri": "https://localhost:8080/",
     "height": 141
    },
    "colab_type": "code",
    "id": "F1xIEgXXidvj",
    "outputId": "06cb5cf9-5207-4b6a-d76d-91879d8d433a"
   },
   "outputs": [
    {
     "name": "stdout",
     "output_type": "stream",
     "text": [
      "WARNING:tensorflow:From /usr/local/lib/python3.6/dist-packages/keras/backend/tensorflow_backend.py:66: The name tf.get_default_graph is deprecated. Please use tf.compat.v1.get_default_graph instead.\n",
      "\n",
      "WARNING:tensorflow:From /usr/local/lib/python3.6/dist-packages/keras/backend/tensorflow_backend.py:541: The name tf.placeholder is deprecated. Please use tf.compat.v1.placeholder instead.\n",
      "\n",
      "WARNING:tensorflow:From /usr/local/lib/python3.6/dist-packages/keras/backend/tensorflow_backend.py:4432: The name tf.random_uniform is deprecated. Please use tf.random.uniform instead.\n",
      "\n"
     ]
    }
   ],
   "source": [
    "#define model \n",
    "model = Sequential()\n",
    "model.add(Embedding(vocab_length, 8, input_length=max_length))\n",
    "model.add(Flatten())\n",
    "model.add(Dense(3,activation='softmax'))"
   ]
  },
  {
   "cell_type": "code",
   "execution_count": 25,
   "metadata": {
    "colab": {
     "base_uri": "https://localhost:8080/",
     "height": 107
    },
    "colab_type": "code",
    "id": "kzG_WPS4kCg0",
    "outputId": "1328be0b-1ef5-49dd-ba14-f56d402202ea"
   },
   "outputs": [
    {
     "name": "stdout",
     "output_type": "stream",
     "text": [
      "WARNING:tensorflow:From /usr/local/lib/python3.6/dist-packages/keras/optimizers.py:793: The name tf.train.Optimizer is deprecated. Please use tf.compat.v1.train.Optimizer instead.\n",
      "\n",
      "WARNING:tensorflow:From /usr/local/lib/python3.6/dist-packages/keras/backend/tensorflow_backend.py:3576: The name tf.log is deprecated. Please use tf.math.log instead.\n",
      "\n"
     ]
    }
   ],
   "source": [
    "model.compile(loss='categorical_crossentropy',\n",
    "              optimizer='adam',\n",
    "              metrics=['accuracy'])"
   ]
  },
  {
   "cell_type": "code",
   "execution_count": 26,
   "metadata": {
    "colab": {
     "base_uri": "https://localhost:8080/",
     "height": 260
    },
    "colab_type": "code",
    "id": "MH-cSa8eldgg",
    "outputId": "1db0662e-6269-4b62-83de-78d671cb3d1c"
   },
   "outputs": [
    {
     "name": "stdout",
     "output_type": "stream",
     "text": [
      "Model: \"sequential_1\"\n",
      "_________________________________________________________________\n",
      "Layer (type)                 Output Shape              Param #   \n",
      "=================================================================\n",
      "embedding_1 (Embedding)      (None, 20, 8)             61304     \n",
      "_________________________________________________________________\n",
      "flatten_1 (Flatten)          (None, 160)               0         \n",
      "_________________________________________________________________\n",
      "dense_1 (Dense)              (None, 3)                 483       \n",
      "=================================================================\n",
      "Total params: 61,787\n",
      "Trainable params: 61,787\n",
      "Non-trainable params: 0\n",
      "_________________________________________________________________\n"
     ]
    }
   ],
   "source": [
    "model.summary()"
   ]
  },
  {
   "cell_type": "code",
   "execution_count": 0,
   "metadata": {
    "colab": {},
    "colab_type": "code",
    "id": "MnhKqpwisyIv"
   },
   "outputs": [],
   "source": [
    "early_stop = EarlyStopping(monitor='val_loss', min_delta=0,patience=5, mode='auto')"
   ]
  },
  {
   "cell_type": "code",
   "execution_count": 28,
   "metadata": {
    "colab": {
     "base_uri": "https://localhost:8080/",
     "height": 765
    },
    "colab_type": "code",
    "id": "qaLahjMBkmQB",
    "outputId": "7f8995b7-00e9-4f8f-87ef-4501c18276ad"
   },
   "outputs": [
    {
     "name": "stdout",
     "output_type": "stream",
     "text": [
      "WARNING:tensorflow:From /usr/local/lib/python3.6/dist-packages/tensorflow_core/python/ops/math_grad.py:1424: where (from tensorflow.python.ops.array_ops) is deprecated and will be removed in a future version.\n",
      "Instructions for updating:\n",
      "Use tf.where in 2.0, which has the same broadcast rule as np.where\n",
      "WARNING:tensorflow:From /usr/local/lib/python3.6/dist-packages/keras/backend/tensorflow_backend.py:1033: The name tf.assign_add is deprecated. Please use tf.compat.v1.assign_add instead.\n",
      "\n",
      "WARNING:tensorflow:From /usr/local/lib/python3.6/dist-packages/keras/backend/tensorflow_backend.py:1020: The name tf.assign is deprecated. Please use tf.compat.v1.assign instead.\n",
      "\n",
      "WARNING:tensorflow:From /usr/local/lib/python3.6/dist-packages/keras/backend/tensorflow_backend.py:3005: The name tf.Session is deprecated. Please use tf.compat.v1.Session instead.\n",
      "\n",
      "Train on 10950 samples, validate on 3651 samples\n",
      "Epoch 1/50\n",
      "WARNING:tensorflow:From /usr/local/lib/python3.6/dist-packages/keras/backend/tensorflow_backend.py:190: The name tf.get_default_session is deprecated. Please use tf.compat.v1.get_default_session instead.\n",
      "\n",
      "WARNING:tensorflow:From /usr/local/lib/python3.6/dist-packages/keras/backend/tensorflow_backend.py:197: The name tf.ConfigProto is deprecated. Please use tf.compat.v1.ConfigProto instead.\n",
      "\n",
      "WARNING:tensorflow:From /usr/local/lib/python3.6/dist-packages/keras/backend/tensorflow_backend.py:207: The name tf.global_variables is deprecated. Please use tf.compat.v1.global_variables instead.\n",
      "\n",
      "WARNING:tensorflow:From /usr/local/lib/python3.6/dist-packages/keras/backend/tensorflow_backend.py:216: The name tf.is_variable_initialized is deprecated. Please use tf.compat.v1.is_variable_initialized instead.\n",
      "\n",
      "WARNING:tensorflow:From /usr/local/lib/python3.6/dist-packages/keras/backend/tensorflow_backend.py:223: The name tf.variables_initializer is deprecated. Please use tf.compat.v1.variables_initializer instead.\n",
      "\n",
      "10950/10950 [==============================] - 10s 950us/step - loss: 0.9096 - acc: 0.6216 - val_loss: 0.7970 - val_acc: 0.6483\n",
      "Epoch 2/50\n",
      "10950/10950 [==============================] - 1s 66us/step - loss: 0.7028 - acc: 0.6978 - val_loss: 0.6627 - val_acc: 0.7201\n",
      "Epoch 3/50\n",
      "10950/10950 [==============================] - 1s 62us/step - loss: 0.5666 - acc: 0.7715 - val_loss: 0.5951 - val_acc: 0.7540\n",
      "Epoch 4/50\n",
      "10950/10950 [==============================] - 1s 58us/step - loss: 0.4798 - acc: 0.8159 - val_loss: 0.5632 - val_acc: 0.7694\n",
      "Epoch 5/50\n",
      "10950/10950 [==============================] - 1s 63us/step - loss: 0.4169 - acc: 0.8474 - val_loss: 0.5507 - val_acc: 0.7768\n",
      "Epoch 6/50\n",
      "10950/10950 [==============================] - 1s 65us/step - loss: 0.3674 - acc: 0.8680 - val_loss: 0.5459 - val_acc: 0.7801\n",
      "Epoch 7/50\n",
      "10950/10950 [==============================] - 1s 64us/step - loss: 0.3260 - acc: 0.8851 - val_loss: 0.5486 - val_acc: 0.7839\n",
      "Epoch 8/50\n",
      "10950/10950 [==============================] - 1s 66us/step - loss: 0.2917 - acc: 0.9023 - val_loss: 0.5554 - val_acc: 0.7844\n",
      "Epoch 9/50\n",
      "10950/10950 [==============================] - 1s 61us/step - loss: 0.2615 - acc: 0.9153 - val_loss: 0.5668 - val_acc: 0.7814\n",
      "Epoch 10/50\n",
      "10950/10950 [==============================] - 1s 61us/step - loss: 0.2357 - acc: 0.9244 - val_loss: 0.5762 - val_acc: 0.7809\n",
      "Epoch 11/50\n",
      "10950/10950 [==============================] - 1s 63us/step - loss: 0.2130 - acc: 0.9342 - val_loss: 0.5907 - val_acc: 0.7795\n"
     ]
    }
   ],
   "source": [
    "history = model.fit(X_train_pad,\n",
    "                    y_train,\n",
    "                    batch_size= 56,   #batch size should be a power of 2\n",
    "                    validation_data=(X_test_pad,y_test),\n",
    "                    epochs=50,\n",
    "                    callbacks=[early_stop],\n",
    "                    verbose=1)"
   ]
  },
  {
   "cell_type": "code",
   "execution_count": 0,
   "metadata": {
    "colab": {},
    "colab_type": "code",
    "id": "zFWmhpHzv66n"
   },
   "outputs": [],
   "source": [
    "model.save('rnn_model.h5')\n",
    "model.save_weights('rnn_model_weights.h5')"
   ]
  },
  {
   "cell_type": "code",
   "execution_count": 0,
   "metadata": {
    "colab": {
     "base_uri": "https://localhost:8080/",
     "height": 530
    },
    "colab_type": "code",
    "id": "QsZ4HP6Ylj2v",
    "outputId": "cdb2bf6a-7aa9-46ef-d696-bd6e76ac748f"
   },
   "outputs": [
    {
     "data": {
      "image/png": "[encoded data removed]",
      "text/plain": [
       "<Figure size 864x576 with 1 Axes>"
      ]
     },
     "metadata": {
      "tags": []
     },
     "output_type": "display_data"
    }
   ],
   "source": [
    "# Check out our train loss and test loss over epochs.\n",
    "train_loss = history.history['loss']\n",
    "test_loss = history.history['val_loss']\n",
    "\n",
    "# Set figure size.\n",
    "plt.figure(figsize=(12, 8))\n",
    "\n",
    "# Generate line plot of training, testing loss over epochs.\n",
    "plt.plot(train_loss, label='Training Loss', color='#185fad')\n",
    "plt.plot(test_loss, label='Testing Loss', color='orange')\n",
    "\n",
    "# Set title\n",
    "plt.title('Training and Testing Loss by Epoch', fontsize = 25)\n",
    "plt.xlabel('Epoch', fontsize = 18)\n",
    "plt.ylabel('Categorical Crossentropy', fontsize = 18)\n",
    "\n",
    "plt.legend(fontsize = 18);"
   ]
  },
  {
   "cell_type": "markdown",
   "metadata": {},
   "source": [
    "<a id='LSTMRNNModel'></a>"
   ]
  },
  {
   "cell_type": "markdown",
   "metadata": {},
   "source": [
    "### RNN Model with LSTM layer\n",
    "\n",
    "- LSTM did not improve the model performance, accuracy was 75% which is poorer than the Vanilla RNN model"
   ]
  },
  {
   "cell_type": "code",
   "execution_count": 0,
   "metadata": {
    "colab": {},
    "colab_type": "code",
    "id": "ljo5CkEhr-4Q"
   },
   "outputs": [],
   "source": [
    "#define model \n",
    "model_lstm = Sequential()\n",
    "model_lstm.add(Embedding(vocab_length, 8, input_length=max_length))\n",
    "# model_lstm.add(Flatten())\n",
    "model_lstm.add(LSTM(20))\n",
    "model_lstm.add(Dense(3,activation='softmax'))"
   ]
  },
  {
   "cell_type": "code",
   "execution_count": 0,
   "metadata": {
    "colab": {},
    "colab_type": "code",
    "id": "TT_cf6vF0m8i"
   },
   "outputs": [],
   "source": [
    "model_lstm.compile(loss='categorical_crossentropy',\n",
    "              optimizer='adam',\n",
    "              metrics=['accuracy'])"
   ]
  },
  {
   "cell_type": "code",
   "execution_count": 0,
   "metadata": {
    "colab": {
     "base_uri": "https://localhost:8080/",
     "height": 260
    },
    "colab_type": "code",
    "id": "88ZUfw9V0qgA",
    "outputId": "bae498f1-02ea-4173-b208-6c2963eff391"
   },
   "outputs": [
    {
     "name": "stdout",
     "output_type": "stream",
     "text": [
      "Model: \"sequential_2\"\n",
      "_________________________________________________________________\n",
      "Layer (type)                 Output Shape              Param #   \n",
      "=================================================================\n",
      "embedding_2 (Embedding)      (None, 20, 8)             61304     \n",
      "_________________________________________________________________\n",
      "lstm_1 (LSTM)                (None, 20)                2320      \n",
      "_________________________________________________________________\n",
      "dense_2 (Dense)              (None, 3)                 63        \n",
      "=================================================================\n",
      "Total params: 63,687\n",
      "Trainable params: 63,687\n",
      "Non-trainable params: 0\n",
      "_________________________________________________________________\n"
     ]
    }
   ],
   "source": [
    "model_lstm.summary()"
   ]
  },
  {
   "cell_type": "code",
   "execution_count": 0,
   "metadata": {
    "colab": {
     "base_uri": "https://localhost:8080/",
     "height": 312
    },
    "colab_type": "code",
    "id": "tDib0pU_0tt4",
    "outputId": "fbe0070e-e954-441c-ced8-5d9617468733"
   },
   "outputs": [
    {
     "name": "stdout",
     "output_type": "stream",
     "text": [
      "Train on 10950 samples, validate on 3651 samples\n",
      "Epoch 1/50\n",
      "10950/10950 [==============================] - 12s 1ms/step - loss: 0.8483 - acc: 0.6517 - val_loss: 0.6730 - val_acc: 0.7220\n",
      "Epoch 2/50\n",
      "10950/10950 [==============================] - 11s 1ms/step - loss: 0.5806 - acc: 0.7538 - val_loss: 0.6028 - val_acc: 0.7524\n",
      "Epoch 3/50\n",
      "10950/10950 [==============================] - 11s 1ms/step - loss: 0.4862 - acc: 0.8043 - val_loss: 0.6002 - val_acc: 0.7510\n",
      "Epoch 4/50\n",
      "10950/10950 [==============================] - 11s 1ms/step - loss: 0.4310 - acc: 0.8317 - val_loss: 0.6193 - val_acc: 0.7499\n",
      "Epoch 5/50\n",
      "10950/10950 [==============================] - 11s 1ms/step - loss: 0.3868 - acc: 0.8557 - val_loss: 0.6623 - val_acc: 0.7414\n",
      "Epoch 6/50\n",
      "10950/10950 [==============================] - 11s 1ms/step - loss: 0.3519 - acc: 0.8735 - val_loss: 0.6849 - val_acc: 0.7477\n",
      "Epoch 7/50\n",
      "10950/10950 [==============================] - 11s 1ms/step - loss: 0.3247 - acc: 0.8859 - val_loss: 0.7516 - val_acc: 0.7483\n",
      "Epoch 8/50\n",
      "10950/10950 [==============================] - 11s 1ms/step - loss: 0.2909 - acc: 0.9024 - val_loss: 0.7248 - val_acc: 0.7502\n"
     ]
    }
   ],
   "source": [
    "history = model_lstm.fit(X_train_pad,\n",
    "                    y_train,\n",
    "                    batch_size= 50,\n",
    "                    validation_data=(X_test_pad,y_test),\n",
    "                    epochs=50,\n",
    "                    callbacks=[early_stop],\n",
    "                    verbose=1)"
   ]
  },
  {
   "cell_type": "code",
   "execution_count": 0,
   "metadata": {
    "colab": {},
    "colab_type": "code",
    "id": "IBDsuyVGweCe"
   },
   "outputs": [],
   "source": [
    "model.save('rnn_lstm.h5')\n",
    "model.save_weights('rnn_lstm_weights.h5')"
   ]
  },
  {
   "cell_type": "code",
   "execution_count": 0,
   "metadata": {
    "colab": {
     "base_uri": "https://localhost:8080/",
     "height": 530
    },
    "colab_type": "code",
    "id": "jbgEMnlM1o5_",
    "outputId": "0154934e-fcab-43dc-ea28-c44de28b160d"
   },
   "outputs": [
    {
     "data": {
      "image/png": "[encoded data removed]",
      "text/plain": [
       "<Figure size 864x576 with 1 Axes>"
      ]
     },
     "metadata": {
      "tags": []
     },
     "output_type": "display_data"
    }
   ],
   "source": [
    "# Check out our train loss and test loss over epochs.\n",
    "train_loss = history.history['loss']\n",
    "test_loss = history.history['val_loss']\n",
    "\n",
    "# Set figure size.\n",
    "plt.figure(figsize=(12, 8))\n",
    "\n",
    "# Generate line plot of training, testing loss over epochs.\n",
    "plt.plot(train_loss, label='Training Loss', color='#185fad')\n",
    "plt.plot(test_loss, label='Testing Loss', color='orange')\n",
    "\n",
    "# Set title\n",
    "plt.title('Training and Testing Loss by Epoch', fontsize = 25)\n",
    "plt.xlabel('Epoch', fontsize = 18)\n",
    "plt.ylabel('Categorical Crossentropy', fontsize = 18)\n",
    "\n",
    "plt.legend(fontsize = 18);"
   ]
  },
  {
   "cell_type": "markdown",
   "metadata": {},
   "source": [
    "<a id='DropoutRNNModel'></a>"
   ]
  },
  {
   "cell_type": "markdown",
   "metadata": {},
   "source": [
    "### RNN Model with LSTM layer and Dropout\n",
    "\n",
    "- LSTM and Dropout only improve the model performance marginally, accuracy was 77.8% which is poorer than the Vanilla RNN model"
   ]
  },
  {
   "cell_type": "code",
   "execution_count": 24,
   "metadata": {
    "colab": {},
    "colab_type": "code",
    "id": "zWFjB7wHtUYM"
   },
   "outputs": [],
   "source": [
    "#define model \n",
    "model_dropout = Sequential()\n",
    "model_dropout.add(Embedding(vocab_length, 8, input_length=max_length))\n",
    "model_dropout.add(SpatialDropout1D(0.5))\n",
    "model_dropout.add(LSTM(100, dropout=0.5))\n",
    "model_dropout.add(Dense(3,activation='softmax'))"
   ]
  },
  {
   "cell_type": "code",
   "execution_count": 25,
   "metadata": {
    "colab": {},
    "colab_type": "code",
    "id": "b5zXGGV-woqh"
   },
   "outputs": [],
   "source": [
    "model_dropout.compile(loss='categorical_crossentropy',\n",
    "              optimizer='adam',\n",
    "              metrics=['accuracy'])"
   ]
  },
  {
   "cell_type": "code",
   "execution_count": 26,
   "metadata": {
    "colab": {
     "base_uri": "https://localhost:8080/",
     "height": 295
    },
    "colab_type": "code",
    "id": "0ZzWRk6Lwt65",
    "outputId": "d5dabc3a-bc42-4c87-9882-9322204b08b1"
   },
   "outputs": [
    {
     "name": "stdout",
     "output_type": "stream",
     "text": [
      "Model: \"sequential_1\"\n",
      "_________________________________________________________________\n",
      "Layer (type)                 Output Shape              Param #   \n",
      "=================================================================\n",
      "embedding_1 (Embedding)      (None, 20, 8)             61304     \n",
      "_________________________________________________________________\n",
      "spatial_dropout1d_1 (Spatial (None, 20, 8)             0         \n",
      "_________________________________________________________________\n",
      "lstm_1 (LSTM)                (None, 100)               43600     \n",
      "_________________________________________________________________\n",
      "dense_1 (Dense)              (None, 3)                 303       \n",
      "=================================================================\n",
      "Total params: 105,207\n",
      "Trainable params: 105,207\n",
      "Non-trainable params: 0\n",
      "_________________________________________________________________\n"
     ]
    }
   ],
   "source": [
    "model_dropout.summary()"
   ]
  },
  {
   "cell_type": "code",
   "execution_count": 27,
   "metadata": {
    "colab": {
     "base_uri": "https://localhost:8080/",
     "height": 1000
    },
    "colab_type": "code",
    "id": "2zVuOjWRwyyU",
    "outputId": "006c5332-d3c5-407e-af87-b5f93e35d901"
   },
   "outputs": [
    {
     "name": "stderr",
     "output_type": "stream",
     "text": [
      "C:\\Users\\leanne\\Anaconda3\\lib\\site-packages\\tensorflow_core\\python\\framework\\indexed_slices.py:433: UserWarning: Converting sparse IndexedSlices to a dense Tensor of unknown shape. This may consume a large amount of memory.\n",
      "  \"Converting sparse IndexedSlices to a dense Tensor of unknown shape. \"\n"
     ]
    },
    {
     "name": "stdout",
     "output_type": "stream",
     "text": [
      "Train on 10950 samples, validate on 3651 samples\n",
      "Epoch 1/50\n",
      "10950/10950 [==============================] - 10s 934us/step - loss: 0.8713 - accuracy: 0.6379 - val_loss: 0.6966 - val_accuracy: 0.7015\n",
      "Epoch 2/50\n",
      "10950/10950 [==============================] - 13s 1ms/step - loss: 0.7100 - accuracy: 0.6992 - val_loss: 0.6345 - val_accuracy: 0.7390\n",
      "Epoch 3/50\n",
      "10950/10950 [==============================] - 9s 823us/step - loss: 0.6527 - accuracy: 0.7308 - val_loss: 0.6070 - val_accuracy: 0.7571\n",
      "Epoch 4/50\n",
      "10950/10950 [==============================] - 11s 1ms/step - loss: 0.6273 - accuracy: 0.7490 - val_loss: 0.6056 - val_accuracy: 0.7540\n",
      "Epoch 5/50\n",
      "10950/10950 [==============================] - 12s 1ms/step - loss: 0.5927 - accuracy: 0.7615 - val_loss: 0.5975 - val_accuracy: 0.7565\n",
      "Epoch 6/50\n",
      "10950/10950 [==============================] - 12s 1ms/step - loss: 0.5705 - accuracy: 0.7724 - val_loss: 0.6116 - val_accuracy: 0.7524\n",
      "Epoch 7/50\n",
      "10950/10950 [==============================] - 9s 784us/step - loss: 0.5570 - accuracy: 0.7774 - val_loss: 0.5998 - val_accuracy: 0.7590\n",
      "Epoch 8/50\n",
      "10950/10950 [==============================] - 11s 1ms/step - loss: 0.5399 - accuracy: 0.7865 - val_loss: 0.6216 - val_accuracy: 0.7573\n",
      "Epoch 9/50\n",
      "10950/10950 [==============================] - 9s 855us/step - loss: 0.5287 - accuracy: 0.7904 - val_loss: 0.6667 - val_accuracy: 0.7554\n",
      "Epoch 10/50\n",
      "10950/10950 [==============================] - 10s 937us/step - loss: 0.5216 - accuracy: 0.7969 - val_loss: 0.6168 - val_accuracy: 0.7546\n",
      "Epoch 11/50\n",
      "10950/10950 [==============================] - 10s 901us/step - loss: 0.5176 - accuracy: 0.7993 - val_loss: 0.6051 - val_accuracy: 0.7587\n",
      "Epoch 12/50\n",
      "10950/10950 [==============================] - 9s 837us/step - loss: 0.5027 - accuracy: 0.8045 - val_loss: 0.6227 - val_accuracy: 0.7557\n",
      "Epoch 13/50\n",
      "10950/10950 [==============================] - 11s 1ms/step - loss: 0.4891 - accuracy: 0.8140 - val_loss: 0.6328 - val_accuracy: 0.7581\n",
      "Epoch 14/50\n",
      "10950/10950 [==============================] - 11s 1ms/step - loss: 0.4820 - accuracy: 0.8123 - val_loss: 0.6274 - val_accuracy: 0.7595\n",
      "Epoch 15/50\n",
      "10950/10950 [==============================] - 10s 891us/step - loss: 0.4722 - accuracy: 0.8173 - val_loss: 0.6414 - val_accuracy: 0.7562\n",
      "Epoch 16/50\n",
      "10950/10950 [==============================] - 10s 882us/step - loss: 0.4652 - accuracy: 0.8196 - val_loss: 0.6461 - val_accuracy: 0.7573\n",
      "Epoch 17/50\n",
      "10950/10950 [==============================] - 10s 884us/step - loss: 0.4584 - accuracy: 0.8252 - val_loss: 0.7052 - val_accuracy: 0.7551\n",
      "Epoch 18/50\n",
      "10950/10950 [==============================] - 11s 974us/step - loss: 0.4512 - accuracy: 0.8294 - val_loss: 0.6441 - val_accuracy: 0.7508\n",
      "Epoch 19/50\n",
      "10950/10950 [==============================] - 9s 864us/step - loss: 0.4510 - accuracy: 0.8277 - val_loss: 0.6449 - val_accuracy: 0.7516\n",
      "Epoch 20/50\n",
      "10950/10950 [==============================] - 11s 996us/step - loss: 0.4402 - accuracy: 0.8345 - val_loss: 0.6862 - val_accuracy: 0.7486\n",
      "Epoch 21/50\n",
      "10950/10950 [==============================] - 12s 1ms/step - loss: 0.4345 - accuracy: 0.8363 - val_loss: 0.6772 - val_accuracy: 0.7538\n",
      "Epoch 22/50\n",
      "10950/10950 [==============================] - 9s 811us/step - loss: 0.4354 - accuracy: 0.8335 - val_loss: 0.6441 - val_accuracy: 0.7527\n",
      "Epoch 23/50\n",
      "10950/10950 [==============================] - 7s 662us/step - loss: 0.4232 - accuracy: 0.8424 - val_loss: 0.6716 - val_accuracy: 0.7486\n",
      "Epoch 24/50\n",
      "10950/10950 [==============================] - 8s 690us/step - loss: 0.4155 - accuracy: 0.8478 - val_loss: 0.6693 - val_accuracy: 0.7513\n",
      "Epoch 25/50\n",
      "10950/10950 [==============================] - 11s 1ms/step - loss: 0.4196 - accuracy: 0.8449 - val_loss: 0.6558 - val_accuracy: 0.7508\n",
      "Epoch 26/50\n",
      "10950/10950 [==============================] - 11s 1ms/step - loss: 0.4223 - accuracy: 0.8405 - val_loss: 0.6819 - val_accuracy: 0.7529\n",
      "Epoch 27/50\n",
      "10950/10950 [==============================] - 10s 882us/step - loss: 0.4096 - accuracy: 0.8483 - val_loss: 0.6845 - val_accuracy: 0.7486\n",
      "Epoch 28/50\n",
      "10950/10950 [==============================] - 9s 852us/step - loss: 0.4066 - accuracy: 0.8502 - val_loss: 0.7094 - val_accuracy: 0.7538\n",
      "Epoch 29/50\n",
      "10950/10950 [==============================] - 10s 959us/step - loss: 0.4026 - accuracy: 0.8490 - val_loss: 0.6966 - val_accuracy: 0.7464\n",
      "Epoch 30/50\n",
      "10950/10950 [==============================] - 11s 1ms/step - loss: 0.3950 - accuracy: 0.8571 - val_loss: 0.7036 - val_accuracy: 0.7502\n",
      "Epoch 31/50\n",
      "10950/10950 [==============================] - 9s 859us/step - loss: 0.3975 - accuracy: 0.8540 - val_loss: 0.7098 - val_accuracy: 0.7549\n",
      "Epoch 32/50\n",
      "10950/10950 [==============================] - 11s 983us/step - loss: 0.4040 - accuracy: 0.8501 - val_loss: 0.6861 - val_accuracy: 0.7510\n",
      "Epoch 33/50\n",
      "10950/10950 [==============================] - 11s 997us/step - loss: 0.3949 - accuracy: 0.8569 - val_loss: 0.7173 - val_accuracy: 0.7513\n",
      "Epoch 34/50\n",
      "10950/10950 [==============================] - 11s 1ms/step - loss: 0.3921 - accuracy: 0.8581 - val_loss: 0.7246 - val_accuracy: 0.7521\n",
      "Epoch 35/50\n",
      "10950/10950 [==============================] - 9s 814us/step - loss: 0.3951 - accuracy: 0.8553 - val_loss: 0.7424 - val_accuracy: 0.7499\n",
      "Epoch 36/50\n",
      "10950/10950 [==============================] - 11s 1ms/step - loss: 0.3839 - accuracy: 0.8570 - val_loss: 0.7036 - val_accuracy: 0.7480\n",
      "Epoch 37/50\n",
      "10950/10950 [==============================] - 11s 1ms/step - loss: 0.3812 - accuracy: 0.8605 - val_loss: 0.7326 - val_accuracy: 0.7494\n",
      "Epoch 38/50\n",
      "10950/10950 [==============================] - 10s 894us/step - loss: 0.3807 - accuracy: 0.8583 - val_loss: 0.7086 - val_accuracy: 0.7455\n",
      "Epoch 39/50\n",
      "10950/10950 [==============================] - 9s 856us/step - loss: 0.3724 - accuracy: 0.8689 - val_loss: 0.7205 - val_accuracy: 0.7494\n",
      "Epoch 40/50\n",
      "10950/10950 [==============================] - 10s 920us/step - loss: 0.3726 - accuracy: 0.8660 - val_loss: 0.6955 - val_accuracy: 0.7453\n",
      "Epoch 41/50\n",
      "10950/10950 [==============================] - 11s 1ms/step - loss: 0.3732 - accuracy: 0.8630 - val_loss: 0.7611 - val_accuracy: 0.7453\n",
      "Epoch 42/50\n",
      "10950/10950 [==============================] - 11s 1ms/step - loss: 0.3809 - accuracy: 0.8608 - val_loss: 0.7150 - val_accuracy: 0.7439\n",
      "Epoch 43/50\n",
      "10950/10950 [==============================] - 10s 952us/step - loss: 0.3665 - accuracy: 0.8641 - val_loss: 0.7055 - val_accuracy: 0.7480\n",
      "Epoch 44/50\n",
      "10950/10950 [==============================] - 12s 1ms/step - loss: 0.3641 - accuracy: 0.8647 - val_loss: 0.7106 - val_accuracy: 0.7469\n",
      "Epoch 45/50\n",
      "10950/10950 [==============================] - 12s 1ms/step - loss: 0.3729 - accuracy: 0.8633 - val_loss: 0.7212 - val_accuracy: 0.7466\n",
      "Epoch 46/50\n",
      "10950/10950 [==============================] - 9s 846us/step - loss: 0.3643 - accuracy: 0.8694 - val_loss: 0.7644 - val_accuracy: 0.7455\n",
      "Epoch 47/50\n",
      "10950/10950 [==============================] - 11s 1ms/step - loss: 0.3630 - accuracy: 0.8664 - val_loss: 0.7798 - val_accuracy: 0.7442\n",
      "Epoch 48/50\n",
      "10950/10950 [==============================] - 12s 1ms/step - loss: 0.3568 - accuracy: 0.8708 - val_loss: 0.7474 - val_accuracy: 0.7450\n",
      "Epoch 49/50\n",
      "10950/10950 [==============================] - 10s 943us/step - loss: 0.3538 - accuracy: 0.8718 - val_loss: 0.7720 - val_accuracy: 0.7453\n",
      "Epoch 50/50\n",
      "10950/10950 [==============================] - 10s 954us/step - loss: 0.3561 - accuracy: 0.8716 - val_loss: 0.7789 - val_accuracy: 0.7434\n"
     ]
    }
   ],
   "source": [
    "history = model_dropout.fit(X_train_pad,\n",
    "                    y_train,\n",
    "                    batch_size= 50,\n",
    "                    validation_data=(X_test_pad,y_test),\n",
    "                    epochs=50,\n",
    "                    verbose=1)"
   ]
  },
  {
   "cell_type": "code",
   "execution_count": 0,
   "metadata": {
    "colab": {},
    "colab_type": "code",
    "id": "TmHrJzxvw7BI"
   },
   "outputs": [],
   "source": [
    "model.save('rnn_dropout.h5')\n",
    "model.save_weights('rnn_dropout_weights.h5')"
   ]
  },
  {
   "cell_type": "code",
   "execution_count": 0,
   "metadata": {
    "colab": {},
    "colab_type": "code",
    "id": "-bpMYAB6xJ2y"
   },
   "outputs": [],
   "source": [
    "# Check out our train loss and test loss over epochs.\n",
    "train_loss = history.history['loss']\n",
    "test_loss = history.history['val_loss']\n",
    "\n",
    "# Set figure size.\n",
    "plt.figure(figsize=(12, 8))\n",
    "\n",
    "# Generate line plot of training, testing loss over epochs.\n",
    "plt.plot(train_loss, label='Training Loss', color='#185fad')\n",
    "plt.plot(test_loss, label='Testing Loss', color='orange')\n",
    "\n",
    "# Set title\n",
    "plt.title('Training and Testing Loss by Epoch', fontsize = 25)\n",
    "plt.xlabel('Epoch', fontsize = 18)\n",
    "plt.ylabel('Categorical Crossentropy', fontsize = 18)\n",
    "\n",
    "plt.legend(fontsize = 18);"
   ]
  },
  {
   "cell_type": "markdown",
   "metadata": {},
   "source": [
    "<a id='ModelSummary'></a>"
   ]
  },
  {
   "cell_type": "markdown",
   "metadata": {},
   "source": [
    "### Summary\n",
    "\n",
    "- The RNN models did not seem to improbe the overall model accuracy scores when compared with the Logistic Regression models hence the plan is to focus on added data cleaning and feature enginnering to improve the performance of the ML models."
   ]
  },
  {
   "cell_type": "markdown",
   "metadata": {},
   "source": [
    "| Model                    | Accuracy Score |\n",
    "|--------------------------|----------------|\n",
    "| Vanilla RNN Model        | 0\\.781         |\n",
    "| RNN with LSTM            | 0\\.750         |\n",
    "| RNN with LSTM & Dropout  | 0\\.778         |\n"
   ]
  }
 ],
 "metadata": {
  "accelerator": "GPU",
  "colab": {
   "collapsed_sections": [],
   "name": "Sentiment Analysis_Tweets_V2",
   "provenance": []
  },
  "kernelspec": {
   "display_name": "Python 3",
   "language": "python",
   "name": "python3"
  },
  "language_info": {
   "codemirror_mode": {
    "name": "ipython",
    "version": 3
   },
   "file_extension": ".py",
   "mimetype": "text/x-python",
   "name": "python",
   "nbconvert_exporter": "python",
   "pygments_lexer": "ipython3",
   "version": "3.7.4"
  }
 },
 "nbformat": 4,
 "nbformat_minor": 1
}
